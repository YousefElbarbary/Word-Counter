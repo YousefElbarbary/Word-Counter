{
 "cells": [
  {
   "cell_type": "code",
   "execution_count": null,
   "id": "c2185d7c",
   "metadata": {},
   "outputs": [],
   "source": [
    "from operator import itemgetter as ig\n",
    "def neatify(word):\n",
    "    un = ['(',')','\"',\",\",\"“\",\"”\",\".\",';','?','!','&']\n",
    "    for j in range(0,len(un)):\n",
    "        if un[j] in word:\n",
    "            word = word.strip(un[j])\n",
    "    return(word)\n",
    "    \n",
    "f = open(input(\"Please Enter the directory: \") , 'r', encoding=\"utf8\")\n",
    "data = f.read().lower().split()\n",
    "f.close()\n",
    "\n",
    "for i in range(0,len(data)):\n",
    "    if '('or')'or','or'\"' or '“' or '”' or \".\" or ';' or '?' or'!' or '&' in data[i]:\n",
    "        data[i] = neatify(data[i])\n",
    "\n",
    "words = dict()\n",
    "for word in data:\n",
    "    if word not in [\"an\",\"is\",\"are\",\"the\",\"of\",\"to\",\"a\",\"as\",\"or\",\"and\",\"in\",\"on\"]:\n",
    "        words[word] = words.get(word,0)+1\n",
    "\n",
    "for word in sorted(list(words.items()) , key = ig(1) , reverse = True):\n",
    "    print(\"{} : {}\".format(*word))"
   ]
  }
 ],
 "metadata": {
  "kernelspec": {
   "display_name": "Python 3 (ipykernel)",
   "language": "python",
   "name": "python3"
  },
  "language_info": {
   "codemirror_mode": {
    "name": "ipython",
    "version": 3
   },
   "file_extension": ".py",
   "mimetype": "text/x-python",
   "name": "python",
   "nbconvert_exporter": "python",
   "pygments_lexer": "ipython3",
   "version": "3.9.12"
  }
 },
 "nbformat": 4,
 "nbformat_minor": 5
}
